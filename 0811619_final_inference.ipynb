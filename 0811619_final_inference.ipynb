{
 "cells": [
  {
   "cell_type": "code",
   "execution_count": 8,
   "metadata": {},
   "outputs": [
    {
     "name": "stdout",
     "output_type": "stream",
     "text": [
      "Requirement already satisfied: astroid==2.12.12 in c:\\users\\user\\appdata\\local\\programs\\python\\python310\\lib\\site-packages (from -r requirements.txt (line 1)) (2.12.12)\n",
      "Requirement already satisfied: asttokens==2.1.0 in c:\\users\\user\\appdata\\roaming\\python\\python310\\site-packages (from -r requirements.txt (line 2)) (2.1.0)\n",
      "Requirement already satisfied: backcall==0.2.0 in c:\\users\\user\\appdata\\roaming\\python\\python310\\site-packages (from -r requirements.txt (line 3)) (0.2.0)\n",
      "Requirement already satisfied: category-encoders==2.5.1.post0 in c:\\users\\user\\appdata\\local\\programs\\python\\python310\\lib\\site-packages (from -r requirements.txt (line 4)) (2.5.1.post0)\n",
      "Requirement already satisfied: certifi==2022.12.7 in c:\\users\\user\\appdata\\local\\programs\\python\\python310\\lib\\site-packages (from -r requirements.txt (line 5)) (2022.12.7)\n",
      "Requirement already satisfied: charset-normalizer==2.1.1 in c:\\users\\user\\appdata\\local\\programs\\python\\python310\\lib\\site-packages (from -r requirements.txt (line 6)) (2.1.1)\n",
      "Requirement already satisfied: colorama==0.4.5 in c:\\users\\user\\appdata\\local\\programs\\python\\python310\\lib\\site-packages (from -r requirements.txt (line 7)) (0.4.5)\n",
      "Requirement already satisfied: contourpy==1.0.5 in c:\\users\\user\\appdata\\local\\programs\\python\\python310\\lib\\site-packages (from -r requirements.txt (line 8)) (1.0.5)\n",
      "Requirement already satisfied: cycler==0.11.0 in c:\\users\\user\\appdata\\local\\programs\\python\\python310\\lib\\site-packages (from -r requirements.txt (line 9)) (0.11.0)\n",
      "Requirement already satisfied: debugpy==1.6.3 in c:\\users\\user\\appdata\\roaming\\python\\python310\\site-packages (from -r requirements.txt (line 10)) (1.6.3)\n",
      "Requirement already satisfied: decorator==5.1.1 in c:\\users\\user\\appdata\\roaming\\python\\python310\\site-packages (from -r requirements.txt (line 11)) (5.1.1)\n",
      "Requirement already satisfied: dill==0.3.5.1 in c:\\users\\user\\appdata\\local\\programs\\python\\python310\\lib\\site-packages (from -r requirements.txt (line 12)) (0.3.5.1)\n",
      "Requirement already satisfied: entrypoints==0.4 in c:\\users\\user\\appdata\\roaming\\python\\python310\\site-packages (from -r requirements.txt (line 13)) (0.4)\n",
      "Requirement already satisfied: executing==1.2.0 in c:\\users\\user\\appdata\\roaming\\python\\python310\\site-packages (from -r requirements.txt (line 14)) (1.2.0)\n",
      "Requirement already satisfied: feature-engine==1.5.2 in c:\\users\\user\\appdata\\local\\programs\\python\\python310\\lib\\site-packages (from -r requirements.txt (line 15)) (1.5.2)\n",
      "Requirement already satisfied: fonttools==4.38.0 in c:\\users\\user\\appdata\\local\\programs\\python\\python310\\lib\\site-packages (from -r requirements.txt (line 16)) (4.38.0)\n",
      "Requirement already satisfied: idna==3.4 in c:\\users\\user\\appdata\\local\\programs\\python\\python310\\lib\\site-packages (from -r requirements.txt (line 17)) (3.4)\n",
      "Requirement already satisfied: ipykernel==6.17.0 in c:\\users\\user\\appdata\\roaming\\python\\python310\\site-packages (from -r requirements.txt (line 18)) (6.17.0)\n",
      "Requirement already satisfied: ipython==8.6.0 in c:\\users\\user\\appdata\\roaming\\python\\python310\\site-packages (from -r requirements.txt (line 19)) (8.6.0)\n",
      "Requirement already satisfied: ipywidgets==8.0.3 in c:\\users\\user\\appdata\\local\\programs\\python\\python310\\lib\\site-packages (from -r requirements.txt (line 20)) (8.0.3)\n",
      "Requirement already satisfied: isort==5.10.1 in c:\\users\\user\\appdata\\local\\programs\\python\\python310\\lib\\site-packages (from -r requirements.txt (line 21)) (5.10.1)\n",
      "Requirement already satisfied: jedi==0.18.1 in c:\\users\\user\\appdata\\roaming\\python\\python310\\site-packages (from -r requirements.txt (line 22)) (0.18.1)\n",
      "Requirement already satisfied: joblib==1.2.0 in c:\\users\\user\\appdata\\local\\programs\\python\\python310\\lib\\site-packages (from -r requirements.txt (line 23)) (1.2.0)\n",
      "Requirement already satisfied: jupyter_client==7.4.4 in c:\\users\\user\\appdata\\roaming\\python\\python310\\site-packages (from -r requirements.txt (line 24)) (7.4.4)\n",
      "Requirement already satisfied: jupyter_core==4.11.2 in c:\\users\\user\\appdata\\roaming\\python\\python310\\site-packages (from -r requirements.txt (line 25)) (4.11.2)\n",
      "Requirement already satisfied: jupyterlab-widgets==3.0.4 in c:\\users\\user\\appdata\\local\\programs\\python\\python310\\lib\\site-packages (from -r requirements.txt (line 26)) (3.0.4)\n",
      "Requirement already satisfied: kiwisolver==1.4.4 in c:\\users\\user\\appdata\\local\\programs\\python\\python310\\lib\\site-packages (from -r requirements.txt (line 27)) (1.4.4)\n",
      "Requirement already satisfied: lazy-object-proxy==1.7.1 in c:\\users\\user\\appdata\\local\\programs\\python\\python310\\lib\\site-packages (from -r requirements.txt (line 28)) (1.7.1)\n",
      "Requirement already satisfied: lightgbm==3.3.4 in c:\\users\\user\\appdata\\local\\programs\\python\\python310\\lib\\site-packages (from -r requirements.txt (line 29)) (3.3.4)\n",
      "Requirement already satisfied: matplotlib==3.6.1 in c:\\users\\user\\appdata\\local\\programs\\python\\python310\\lib\\site-packages (from -r requirements.txt (line 30)) (3.6.1)\n",
      "Requirement already satisfied: matplotlib-inline==0.1.6 in c:\\users\\user\\appdata\\roaming\\python\\python310\\site-packages (from -r requirements.txt (line 31)) (0.1.6)\n",
      "Requirement already satisfied: mccabe==0.7.0 in c:\\users\\user\\appdata\\local\\programs\\python\\python310\\lib\\site-packages (from -r requirements.txt (line 32)) (0.7.0)\n",
      "Requirement already satisfied: nest-asyncio==1.5.6 in c:\\users\\user\\appdata\\roaming\\python\\python310\\site-packages (from -r requirements.txt (line 33)) (1.5.6)\n",
      "Requirement already satisfied: numpy==1.23.4 in c:\\users\\user\\appdata\\local\\programs\\python\\python310\\lib\\site-packages (from -r requirements.txt (line 34)) (1.23.4)\n",
      "Requirement already satisfied: opencv-python==4.6.0.66 in c:\\users\\user\\appdata\\local\\programs\\python\\python310\\lib\\site-packages (from -r requirements.txt (line 35)) (4.6.0.66)\n",
      "Requirement already satisfied: packaging==21.3 in c:\\users\\user\\appdata\\local\\programs\\python\\python310\\lib\\site-packages (from -r requirements.txt (line 36)) (21.3)\n",
      "Requirement already satisfied: pandas==1.5.1 in c:\\users\\user\\appdata\\local\\programs\\python\\python310\\lib\\site-packages (from -r requirements.txt (line 37)) (1.5.1)\n",
      "Requirement already satisfied: parso==0.8.3 in c:\\users\\user\\appdata\\roaming\\python\\python310\\site-packages (from -r requirements.txt (line 38)) (0.8.3)\n",
      "Requirement already satisfied: patsy==0.5.3 in c:\\users\\user\\appdata\\local\\programs\\python\\python310\\lib\\site-packages (from -r requirements.txt (line 39)) (0.5.3)\n",
      "Requirement already satisfied: pickleshare==0.7.5 in c:\\users\\user\\appdata\\roaming\\python\\python310\\site-packages (from -r requirements.txt (line 40)) (0.7.5)\n",
      "Requirement already satisfied: Pillow==9.2.0 in c:\\users\\user\\appdata\\local\\programs\\python\\python310\\lib\\site-packages (from -r requirements.txt (line 41)) (9.2.0)\n",
      "Requirement already satisfied: platformdirs==2.5.2 in c:\\users\\user\\appdata\\local\\programs\\python\\python310\\lib\\site-packages (from -r requirements.txt (line 42)) (2.5.2)\n",
      "Requirement already satisfied: prompt-toolkit==3.0.32 in c:\\users\\user\\appdata\\roaming\\python\\python310\\site-packages (from -r requirements.txt (line 43)) (3.0.32)\n",
      "Requirement already satisfied: psutil==5.9.4 in c:\\users\\user\\appdata\\roaming\\python\\python310\\site-packages (from -r requirements.txt (line 44)) (5.9.4)\n",
      "Requirement already satisfied: pure-eval==0.2.2 in c:\\users\\user\\appdata\\roaming\\python\\python310\\site-packages (from -r requirements.txt (line 45)) (0.2.2)\n",
      "Requirement already satisfied: pycodestyle==2.9.1 in c:\\users\\user\\appdata\\local\\programs\\python\\python310\\lib\\site-packages (from -r requirements.txt (line 46)) (2.9.1)\n",
      "Requirement already satisfied: Pygments==2.13.0 in c:\\users\\user\\appdata\\roaming\\python\\python310\\site-packages (from -r requirements.txt (line 47)) (2.13.0)\n",
      "Requirement already satisfied: pylint==2.15.4 in c:\\users\\user\\appdata\\local\\programs\\python\\python310\\lib\\site-packages (from -r requirements.txt (line 48)) (2.15.4)\n",
      "Requirement already satisfied: pyparsing==3.0.9 in c:\\users\\user\\appdata\\local\\programs\\python\\python310\\lib\\site-packages (from -r requirements.txt (line 49)) (3.0.9)\n",
      "Requirement already satisfied: python-dateutil==2.8.2 in c:\\users\\user\\appdata\\local\\programs\\python\\python310\\lib\\site-packages (from -r requirements.txt (line 50)) (2.8.2)\n",
      "Requirement already satisfied: pytz==2022.5 in c:\\users\\user\\appdata\\local\\programs\\python\\python310\\lib\\site-packages (from -r requirements.txt (line 51)) (2022.5)\n",
      "Requirement already satisfied: pywin32==305 in c:\\users\\user\\appdata\\roaming\\python\\python310\\site-packages (from -r requirements.txt (line 52)) (305)\n",
      "Requirement already satisfied: pyzmq==24.0.1 in c:\\users\\user\\appdata\\roaming\\python\\python310\\site-packages (from -r requirements.txt (line 53)) (24.0.1)\n",
      "Requirement already satisfied: requests==2.28.1 in c:\\users\\user\\appdata\\local\\programs\\python\\python310\\lib\\site-packages (from -r requirements.txt (line 54)) (2.28.1)\n",
      "Requirement already satisfied: scikit-learn==1.1.3 in c:\\users\\user\\appdata\\local\\programs\\python\\python310\\lib\\site-packages (from -r requirements.txt (line 55)) (1.1.3)\n",
      "Requirement already satisfied: scipy==1.9.3 in c:\\users\\user\\appdata\\local\\programs\\python\\python310\\lib\\site-packages (from -r requirements.txt (line 56)) (1.9.3)\n",
      "Requirement already satisfied: six==1.16.0 in c:\\users\\user\\appdata\\local\\programs\\python\\python310\\lib\\site-packages (from -r requirements.txt (line 57)) (1.16.0)\n",
      "Requirement already satisfied: stack-data==0.6.0 in c:\\users\\user\\appdata\\roaming\\python\\python310\\site-packages (from -r requirements.txt (line 58)) (0.6.0)\n",
      "Requirement already satisfied: statsmodels==0.13.5 in c:\\users\\user\\appdata\\local\\programs\\python\\python310\\lib\\site-packages (from -r requirements.txt (line 59)) (0.13.5)\n",
      "Requirement already satisfied: threadpoolctl==3.1.0 in c:\\users\\user\\appdata\\local\\programs\\python\\python310\\lib\\site-packages (from -r requirements.txt (line 60)) (3.1.0)\n",
      "Requirement already satisfied: tomli==2.0.1 in c:\\users\\user\\appdata\\local\\programs\\python\\python310\\lib\\site-packages (from -r requirements.txt (line 61)) (2.0.1)\n",
      "Requirement already satisfied: tomlkit==0.11.5 in c:\\users\\user\\appdata\\local\\programs\\python\\python310\\lib\\site-packages (from -r requirements.txt (line 62)) (0.11.5)\n",
      "Requirement already satisfied: torch==1.13.1 in c:\\users\\user\\appdata\\local\\programs\\python\\python310\\lib\\site-packages (from -r requirements.txt (line 63)) (1.13.1)\n",
      "Requirement already satisfied: torchvision==0.14.1 in c:\\users\\user\\appdata\\local\\programs\\python\\python310\\lib\\site-packages (from -r requirements.txt (line 64)) (0.14.1)\n",
      "Requirement already satisfied: tornado==6.2 in c:\\users\\user\\appdata\\roaming\\python\\python310\\site-packages (from -r requirements.txt (line 65)) (6.2)\n",
      "Requirement already satisfied: tqdm==4.64.1 in c:\\users\\user\\appdata\\local\\programs\\python\\python310\\lib\\site-packages (from -r requirements.txt (line 66)) (4.64.1)\n",
      "Requirement already satisfied: traitlets==5.5.0 in c:\\users\\user\\appdata\\roaming\\python\\python310\\site-packages (from -r requirements.txt (line 67)) (5.5.0)\n",
      "Requirement already satisfied: typing_extensions==4.4.0 in c:\\users\\user\\appdata\\local\\programs\\python\\python310\\lib\\site-packages (from -r requirements.txt (line 68)) (4.4.0)\n",
      "Requirement already satisfied: urllib3==1.26.13 in c:\\users\\user\\appdata\\local\\programs\\python\\python310\\lib\\site-packages (from -r requirements.txt (line 69)) (1.26.13)\n",
      "Requirement already satisfied: wcwidth==0.2.5 in c:\\users\\user\\appdata\\roaming\\python\\python310\\site-packages (from -r requirements.txt (line 70)) (0.2.5)\n",
      "Requirement already satisfied: widgetsnbextension==4.0.4 in c:\\users\\user\\appdata\\local\\programs\\python\\python310\\lib\\site-packages (from -r requirements.txt (line 71)) (4.0.4)\n",
      "Requirement already satisfied: wrapt==1.14.1 in c:\\users\\user\\appdata\\local\\programs\\python\\python310\\lib\\site-packages (from -r requirements.txt (line 72)) (1.14.1)\n",
      "Requirement already satisfied: wheel in c:\\users\\user\\appdata\\local\\programs\\python\\python310\\lib\\site-packages (from lightgbm==3.3.4->-r requirements.txt (line 29)) (0.38.4)\n",
      "Note: you may need to restart the kernel to use updated packages.\n"
     ]
    }
   ],
   "source": [
    "pip install -r requirements.txt"
   ]
  },
  {
   "cell_type": "code",
   "execution_count": 9,
   "metadata": {},
   "outputs": [],
   "source": [
    "import numpy as np\n",
    "import pandas as pd\n",
    "import torch\n",
    "import gc; gc.enable()\n",
    "from sklearn.impute import KNNImputer\n",
    "from sklearn.metrics import roc_auc_score\n",
    "import category_encoders as ce\n",
    "from sklearn.linear_model import LogisticRegression, HuberRegressor\n",
    "import warnings; warnings.filterwarnings(\"ignore\")\n",
    "\n",
    "AFTER_PROCESS_TRAIN_PATH = \"./after_train.csv\"\n",
    "AFTER_PROCESS_TEST_PATH = \"./after_test.csv\"\n",
    "SAMPLE_SUBMISSION_PATH = \"./sample_submission.csv\"\n",
    "\n",
    "SUBMISSION_PATH = \"./final_0811619.csv\""
   ]
  },
  {
   "cell_type": "code",
   "execution_count": 10,
   "metadata": {},
   "outputs": [],
   "source": [
    "train_df = pd.read_csv(AFTER_PROCESS_TRAIN_PATH)\n",
    "test_df = pd.read_csv(AFTER_PROCESS_TEST_PATH)\n",
    "submission = pd.read_csv(SAMPLE_SUBMISSION_PATH)"
   ]
  },
  {
   "cell_type": "code",
   "execution_count": 11,
   "metadata": {},
   "outputs": [],
   "source": [
    "folds_dict = {f'Fold 1': [['A', 'B', 'C'], ['D', 'E']],\n",
    "               'Fold 2': [['A', 'B', 'D'], ['C', 'E']],\n",
    "               'Fold 3': [['A', 'B', 'E'], ['C', 'D']],\n",
    "               'Fold 4': [['A', 'C', 'D'], ['B', 'E']],\n",
    "               'Fold 5': [['A', 'C', 'E'], ['B', 'D']],\n",
    "               'Fold 6': [['A', 'D', 'E'], ['B', 'C']],\n",
    "               'Fold 7': [['B', 'C', 'D'], ['A', 'E']],\n",
    "               'Fold 8': [['B', 'C', 'E'], ['A', 'D']],\n",
    "               'Fold 9': [['B', 'D', 'E'], ['A', 'C']],\n",
    "               'Fold 10': [['C', 'D', 'E'], ['A', 'B']] \n",
    "               }"
   ]
  },
  {
   "cell_type": "code",
   "execution_count": 12,
   "metadata": {},
   "outputs": [],
   "source": [
    "features = ['loading', 'm1', 'm2', 'measurement_17', 'measurement_0', 'measurement_1', 'measurement_2', \n",
    "            'measurement_median', 'measurement_max', 'measurement_min', 'measurement_skew']"
   ]
  },
  {
   "cell_type": "code",
   "execution_count": 13,
   "metadata": {},
   "outputs": [],
   "source": [
    "test_predictions = np.zeros((test_df.shape[0], 1))\n",
    "\n",
    "auc_score = []\n",
    "\n",
    "for fold in folds_dict.keys():\n",
    "\n",
    "    model = torch.load(f'model{fold}.pt')\n",
    "    test_pred = model.predict_proba(test_df[features].values)[:, 1].reshape(-1, 1)\n",
    "    test_predictions += test_pred * 0.1"
   ]
  },
  {
   "cell_type": "code",
   "execution_count": 14,
   "metadata": {},
   "outputs": [],
   "source": [
    "submission['failure'] = test_predictions\n",
    "submission.to_csv(SUBMISSION_PATH, index=False)"
   ]
  }
 ],
 "metadata": {
  "kernelspec": {
   "display_name": "Python 3",
   "language": "python",
   "name": "python3"
  },
  "language_info": {
   "codemirror_mode": {
    "name": "ipython",
    "version": 3
   },
   "file_extension": ".py",
   "mimetype": "text/x-python",
   "name": "python",
   "nbconvert_exporter": "python",
   "pygments_lexer": "ipython3",
   "version": "3.10.8"
  },
  "orig_nbformat": 4,
  "vscode": {
   "interpreter": {
    "hash": "df95319d8ce4e1d89f5365ae10992bc1f65da593082b1d264e8f529830ec2f02"
   }
  }
 },
 "nbformat": 4,
 "nbformat_minor": 2
}
